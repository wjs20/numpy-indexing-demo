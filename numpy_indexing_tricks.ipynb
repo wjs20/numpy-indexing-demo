{
 "cells": [
  {
   "cell_type": "markdown",
   "id": "1ccab62c-c999-4323-9ea7-d320f8945a9c",
   "metadata": {},
   "source": [
    "# Numpy Indexing Tricks"
   ]
  },
  {
   "cell_type": "markdown",
   "id": "248c64b7-129b-4b59-bd16-fe2851bca270",
   "metadata": {},
   "source": [
    "> *C is a razor sharp tool, with which one can create an elegant and efficient program or a bloody mess.*\n",
    ">     - *Brian Kernigan*"
   ]
  },
  {
   "cell_type": "markdown",
   "id": "e6442593-9b2f-46e2-90cb-d20fe1749701",
   "metadata": {},
   "source": [
    "The brilliant quote above from Brian Kernigan (A developer of the early unix operating system) was of course talking about the C programming language, but I think the same could equally be said about NumPy. Without proper care, its all to easy to introduce subtle bugs into NumPy code that can be a headache to debug. These bugs often revolve around improper indexing. Despite these difficulties I think NumPy is an excellant and underused tool so I thought I would provide a few tips in this article to help ensure you end up with an elegant and efficient program, not a bloody mess."
   ]
  },
  {
   "cell_type": "markdown",
   "id": "69a0de62-d99f-4d50-a957-1d64791ac927",
   "metadata": {},
   "source": [
    "## What is NumPy"
   ]
  },
  {
   "cell_type": "markdown",
   "id": "43980efa-c246-4a8b-a9a6-9f67da31a90f",
   "metadata": {},
   "source": [
    "For those unfamiliar with NumPy, it is a python library that provides multidimensional array data structures and routines for manipulating them. These data structures and routines are implemented in highly optimized C or fortran code. This makes them very fast, and also avoids much of the memory overhead that is associated with python objects and function calls. Due to this speed and efficiency its often preferable (or even necessary) to implement heavy duty numeric computation in numpy rather than pure python. It has the added nicety that it interoperates beatifully with the rest of the python data ecosystem (pandas, matplotlib, scipy, numba). I've shown an example of some numpy code below, which computes the pairwise euclidean distance between points in 3D space."
   ]
  },
  {
   "cell_type": "code",
   "execution_count": 1,
   "id": "34a6e06d-0727-43a1-b80e-4d3ce0a0f428",
   "metadata": {},
   "outputs": [],
   "source": [
    "%load_ext memory_profiler"
   ]
  },
  {
   "cell_type": "code",
   "execution_count": 2,
   "id": "8e3d1dd8-d4d4-470c-84f9-04e0bc8c1793",
   "metadata": {},
   "outputs": [],
   "source": [
    "import numpy as np\n",
    "\n",
    "def pdistnp(points1, points2):\n",
    "    return np.sqrt(((points1[:,None] - points2)**2).sum(axis=2))"
   ]
  },
  {
   "cell_type": "markdown",
   "id": "716d9ab7-2e13-4ae6-a213-2dff4ea97a88",
   "metadata": {},
   "source": [
    "We can time how long it takes to run using the IPython cell magic command %%timeit"
   ]
  },
  {
   "cell_type": "code",
   "execution_count": 3,
   "id": "57b84ba3-d0d4-4d64-b8ab-5c34d08596a1",
   "metadata": {},
   "outputs": [],
   "source": [
    "rng = np.random.default_rng()\n",
    "\n",
    "points1np = rng.normal(size=(100,3))\n",
    "points2np = rng.normal(size=(100,3))"
   ]
  },
  {
   "cell_type": "code",
   "execution_count": 4,
   "id": "3a3ea5ac-bea7-41c7-bd1a-3607e70d024b",
   "metadata": {},
   "outputs": [
    {
     "name": "stdout",
     "output_type": "stream",
     "text": [
      "179 μs ± 945 ns per loop (mean ± std. dev. of 7 runs, 10,000 loops each)\n"
     ]
    }
   ],
   "source": [
    "%timeit pdistnp(points1np, points2np)"
   ]
  },
  {
   "cell_type": "markdown",
   "id": "6d932354-7f93-4258-a3ea-cf5f66baabb2",
   "metadata": {},
   "source": [
    "It clocks in at ~200 μs. Lets implement the same functionality in pure python and see how it performs."
   ]
  },
  {
   "cell_type": "code",
   "execution_count": 5,
   "id": "3e952dfe-1872-423e-a423-dad57c1d2469",
   "metadata": {},
   "outputs": [],
   "source": [
    "from math import dist\n",
    "from operator import sub\n",
    "\n",
    "def pdistpy(points1, points2):\n",
    "    return [\n",
    "        [dist(p,q) for q in points2]\n",
    "        for p in points1\n",
    "    ]"
   ]
  },
  {
   "cell_type": "code",
   "execution_count": 6,
   "id": "4543c787-d311-48d1-9d75-881f3463bdc9",
   "metadata": {},
   "outputs": [],
   "source": [
    "points1py = points1np.tolist()\n",
    "points2py = points2np.tolist()"
   ]
  },
  {
   "cell_type": "code",
   "execution_count": 7,
   "id": "fd062855-4083-40ee-9cc2-b799854fc5e9",
   "metadata": {},
   "outputs": [
    {
     "name": "stdout",
     "output_type": "stream",
     "text": [
      "712 μs ± 4.09 μs per loop (mean ± std. dev. of 7 runs, 1,000 loops each)\n"
     ]
    }
   ],
   "source": [
    "%timeit pdistpy(points1py, points2py)"
   ]
  },
  {
   "cell_type": "markdown",
   "id": "13a50ed8-94ab-4fd8-b9d8-331a31b1f690",
   "metadata": {},
   "source": [
    "That clocked in at ~800 μs, so 4x slower than the numpy version! And that is speed difference is comparatively small compared to the kinds of speed ups it is typical to see when porting pure python code to NumPy. It is not unheard of to acheive 100-1000x speedups in some cases. "
   ]
  },
  {
   "cell_type": "markdown",
   "id": "c916c005-c4ba-49a2-ab35-51ea0028fd11",
   "metadata": {},
   "source": [
    "We can double check that they are producing the same results."
   ]
  },
  {
   "cell_type": "code",
   "execution_count": 8,
   "id": "3f24e5d5-2866-496c-85d1-923d96dcdb7f",
   "metadata": {},
   "outputs": [
    {
     "data": {
      "text/plain": [
       "True"
      ]
     },
     "execution_count": 8,
     "metadata": {},
     "output_type": "execute_result"
    }
   ],
   "source": [
    "np.allclose(pdistpy(points1py, points2py), pdistnp(points1np, points2np))"
   ]
  },
  {
   "cell_type": "markdown",
   "id": "20268351-07cf-4694-9a1c-72889e13b41e",
   "metadata": {},
   "source": [
    "So NumPy is faster, what about memory?"
   ]
  },
  {
   "cell_type": "code",
   "execution_count": 9,
   "id": "b9c609c3-9e7f-4150-b59d-fb4d47960fba",
   "metadata": {},
   "outputs": [],
   "source": [
    "import sys"
   ]
  },
  {
   "cell_type": "code",
   "execution_count": 10,
   "id": "0f4f4e04-9363-4631-aacb-cb080b740b8a",
   "metadata": {},
   "outputs": [],
   "source": [
    "distmatnp = pdistnp(points1np, points2np)"
   ]
  },
  {
   "cell_type": "markdown",
   "id": "b6e72dea-971e-4bf6-923e-9fe9c2a83004",
   "metadata": {},
   "source": [
    "The distance matrix is of size 100 x 100, so it has 10000 elements. Each element is a 64 bit floating point number, and so takes up 8 bytes. Multiplying these numbers together tells us that our array takes up 80000 bytes or 80KB."
   ]
  },
  {
   "cell_type": "code",
   "execution_count": 11,
   "id": "4660fd50-2ba7-4d24-9ed1-2ad3f7c62c12",
   "metadata": {},
   "outputs": [
    {
     "data": {
      "text/plain": [
       "'80.0 KB'"
      ]
     },
     "execution_count": 11,
     "metadata": {},
     "output_type": "execute_result"
    }
   ],
   "source": [
    "f\"{distmatnp.size*distmatnp.itemsize*1e-3} KB\""
   ]
  },
  {
   "cell_type": "markdown",
   "id": "226edb85-4d7a-4cb8-a68b-f690365c1c85",
   "metadata": {},
   "source": [
    "A python float on the other hand takes up 24 bytes by default. Multiplying by the same number of elements gives us a total of 240000 bytes, or 240KB. So 3x larger than the NumPy array output."
   ]
  },
  {
   "cell_type": "code",
   "execution_count": 12,
   "id": "081b9c61-461f-4cf3-9d6f-9a42bb9a6cd1",
   "metadata": {},
   "outputs": [],
   "source": [
    "distmatpy = pdistpy(points1py, points2py)"
   ]
  },
  {
   "cell_type": "code",
   "execution_count": 13,
   "id": "cffd3cc9-c222-4264-934d-e261113ce455",
   "metadata": {},
   "outputs": [
    {
     "data": {
      "text/plain": [
       "240000"
      ]
     },
     "execution_count": 13,
     "metadata": {},
     "output_type": "execute_result"
    }
   ],
   "source": [
    "sys.getsizeof(1.0) * 100**2"
   ]
  },
  {
   "cell_type": "markdown",
   "id": "d7021042-68e1-4822-b9c7-6e34c16993ff",
   "metadata": {},
   "source": [
    "So NumPy is faster **and** more memory efficient! Whats not to love? The answer is multidimensional..."
   ]
  },
  {
   "cell_type": "markdown",
   "id": "5dd6a7ad-d560-4cd8-ab07-f1f341696dc0",
   "metadata": {},
   "source": [
    "## NumPy Vectorization"
   ]
  },
  {
   "cell_type": "markdown",
   "id": "44fb84c0-2d0d-4d1f-8b62-372c76fc3097",
   "metadata": {},
   "source": [
    "The core concept that you need to be comfortable with to write good numpy code is **vectorization**. This means expressing operations on *arrays* rather than looping over individual elements to apply an operation. For example, the snippet below subtracts two sets of numbers without any explicit looping. The operation is applied to the two arrays *elementwise*. "
   ]
  },
  {
   "cell_type": "code",
   "execution_count": 14,
   "id": "09f71b33-673e-47ae-9f97-3acb2edd30c7",
   "metadata": {},
   "outputs": [
    {
     "data": {
      "text/plain": [
       "array([2, 4, 6, 8])"
      ]
     },
     "execution_count": 14,
     "metadata": {},
     "output_type": "execute_result"
    }
   ],
   "source": [
    "np.array([1, 2, 3, 4]) + np.array([1, 2, 3, 4])"
   ]
  },
  {
   "cell_type": "markdown",
   "id": "fbc3f30a-85af-44a3-b3b6-cccc866153bc",
   "metadata": {},
   "source": [
    "In pure python, you would need to loop over the individual elements of each array and apply the operation to the elements directly."
   ]
  },
  {
   "cell_type": "code",
   "execution_count": 15,
   "id": "d8671b47-feb6-4daf-9c91-08714b3d3951",
   "metadata": {},
   "outputs": [
    {
     "data": {
      "text/plain": [
       "[2, 4, 6, 8]"
      ]
     },
     "execution_count": 15,
     "metadata": {},
     "output_type": "execute_result"
    }
   ],
   "source": [
    "[x + y for x, y  in zip([1, 2, 3, 4], [1, 2, 3, 4])]"
   ]
  },
  {
   "cell_type": "markdown",
   "id": "69b46668-e46e-4a3f-8139-12e56cd34c47",
   "metadata": {},
   "source": [
    "The above example is simple because we are working with 2 1D arrays. Things often get more complicated when we are working with higher dimensional arrays, and wanting to apply operations only over particular *axis* (dimensions). In the first example I showed, you may have noticed this syntax `(points1[:,None]`. If you are not familiar with this, it is an example of *array reshaping*. In order to understand why we need to do this, lets try skipping it and seeing what happens."
   ]
  },
  {
   "cell_type": "code",
   "execution_count": 16,
   "id": "a8949932-782a-40e9-bbe6-6719da73818a",
   "metadata": {},
   "outputs": [],
   "source": [
    "def pdistnp2(points1, points2):\n",
    "    return np.sqrt(((points1 - points2)**2).sum(-1))"
   ]
  },
  {
   "cell_type": "code",
   "execution_count": 17,
   "id": "2a0418ea-896b-4c8b-b91b-1c4bf3b76010",
   "metadata": {},
   "outputs": [
    {
     "data": {
      "text/plain": [
       "(100,)"
      ]
     },
     "execution_count": 17,
     "metadata": {},
     "output_type": "execute_result"
    }
   ],
   "source": [
    "pdistnp2(points1np, points2np).shape"
   ]
  },
  {
   "cell_type": "markdown",
   "id": "2ccb64d8-0952-41a0-8667-40a4b03bae85",
   "metadata": {},
   "source": [
    "We were expected the result of the operation to be a 2D array (100 x 100), but what we got was a 1D array with 100 elements. What happened is NumPy applied the subtraction *element-wise*, meaning the first element of points1 was compared with the first element of points2, the second element with the second etc. What we want is to subtract *every element* of points2 from *every element* of points1.  In order to get what we want, we need to insert a *unit axis* (an axis of size one) in the points1 array."
   ]
  },
  {
   "cell_type": "code",
   "execution_count": 18,
   "id": "e8e5ee86-b387-4d01-8d87-329dc256f4c1",
   "metadata": {},
   "outputs": [
    {
     "data": {
      "text/plain": [
       "(100, 1, 3)"
      ]
     },
     "execution_count": 18,
     "metadata": {},
     "output_type": "execute_result"
    }
   ],
   "source": [
    "points2np[:,None].shape"
   ]
  },
  {
   "cell_type": "markdown",
   "id": "04dd1013-6c95-423b-a3ea-c60ee82e726f",
   "metadata": {},
   "source": [
    "Now, when we subtract points2, which is a 2D array with shape 100 x 3, NumPy will do what is called *broadcasting*, which essentially means copying the elements from an axis of one of the arrays, to match the size of the same axis in the other. The rules for broadcasting can be found [here](https://numpy.org/devdocs//user/basics.broadcasting.html). In our case, what happens under the hood is shown below."
   ]
  },
  {
   "cell_type": "code",
   "execution_count": 19,
   "id": "b22dc776-888b-4779-8ad1-81b6266389f1",
   "metadata": {},
   "outputs": [],
   "source": [
    "# A      (4d array):  100 x 1   x 3\n",
    "# B      (3d array):        100 x 3\n",
    "# Result (4d array):  100 x 100 x 3"
   ]
  },
  {
   "cell_type": "markdown",
   "id": "f6bf162c-c9d5-4e45-ab49-8b717ffad2ee",
   "metadata": {},
   "source": [
    "Step-by-step breakdown\n",
    "1. NumPy first aligns the two arrays along the last axis\n",
    "2. It finds that axis 1 in array A is of size 1 and axis 1 in array B is of size 100, so it 'copies' axis 1 of of A 100 times to match the size of B's axis 1\n",
    "3. It finds that axis 0 of B is non-existant, so it inserts a unit axis and repeats the above step in reverse (i.e. copying the 0th element of B 100 times to match the size of the 0th axis of A)"
   ]
  },
  {
   "cell_type": "markdown",
   "id": "2908bdb8-4307-4082-8958-24feb42fd0cb",
   "metadata": {},
   "source": [
    "Note: I put 'copying' in quotes because what goes on under the hood is slightly more complex than this, but its a good working mental model. "
   ]
  },
  {
   "cell_type": "markdown",
   "id": "758d81dc-e0ca-4f66-b867-ea981a47b8f1",
   "metadata": {},
   "source": [
    "In practice this means that every element of points2 is subtracted from every element of points1, resulting in a 100 x 100 x 3 array of diffs. We then square and sum these diffs *across the last axis* to get the euclidean distance. By passing the `axis=2` argument to sum, we are telling it to sum across the x y z axis. If we omitted this argument, we would find that the result returned would be a scalar value, as by default the sum is computed over all elements. With the `axis=2` argument however, we end up with a 100 x 100 array of pairwise diffs, just what we want!"
   ]
  },
  {
   "cell_type": "markdown",
   "id": "e6648b3a-9c35-45f1-8c92-5a01ad3d4cd6",
   "metadata": {},
   "source": [
    "## Scaling up"
   ]
  },
  {
   "cell_type": "markdown",
   "id": "3ecf6b46-9fdb-4749-812a-9d57084b4625",
   "metadata": {},
   "source": [
    "Often when developing NumPy code (or other array based code such as pytorch), you will start of with data that has fewer axes. This is because working with smaller data is usually faster, and in the early stages of development you want to prioritize iteration speed so you can try lots of things quickly and see what works. This is common in machine learning for example, where you may do some experimental work with grayscale images before jumping up to full color images, or where you may work with a single instance before moving on to processing batches of images. What you want, is to seamlessly pass in your scaled up data once you have worked out your algorithm, and for everything to work in the same way. \n",
    "\n",
    "Unless you have taken care to enable this though, you will run into issues. Lets see how by scaling up our distance calculations to working with batches of 3D points as opposed to single instances. We will try to compute the pairwise distances between pairs of 3D points. "
   ]
  },
  {
   "cell_type": "code",
   "execution_count": 20,
   "id": "427c55fb-9e3f-45cb-b000-1a7fc859f787",
   "metadata": {},
   "outputs": [],
   "source": [
    "batched_points1np = np.tile(points1np[None], (10, 1, 1))\n",
    "batched_points2np = np.tile(points2np[None], (10, 1, 1))"
   ]
  },
  {
   "cell_type": "markdown",
   "id": "3af4aa75-63c9-4f1c-90ee-6c9114a449bb",
   "metadata": {},
   "source": [
    "We have inserted a unit axis before the 0th axis of our points and copied it 10 times to simulate a batch of 3D points rather than a single instance. We can check this by looking at the shape of the arrays."
   ]
  },
  {
   "cell_type": "code",
   "execution_count": 21,
   "id": "0d12647c-1a4d-41f6-8129-cb37b9cbdbda",
   "metadata": {},
   "outputs": [
    {
     "data": {
      "text/plain": [
       "((10, 100, 3), (10, 100, 3))"
      ]
     },
     "execution_count": 21,
     "metadata": {},
     "output_type": "execute_result"
    }
   ],
   "source": [
    "(batched_points1np.shape, batched_points2np.shape)"
   ]
  },
  {
   "cell_type": "markdown",
   "id": "5d63733e-f82e-419d-8b09-604bf7d8488a",
   "metadata": {},
   "source": [
    "Now lets try to apply the functions we have already written to do the same thing on our scaled up dataset. "
   ]
  },
  {
   "cell_type": "code",
   "execution_count": 22,
   "id": "dfe1245a-05aa-443e-951a-bb81576c7ea2",
   "metadata": {},
   "outputs": [],
   "source": [
    "batched_pdists = pdistnp(batched_points1np, batched_points2np)"
   ]
  },
  {
   "cell_type": "code",
   "execution_count": 23,
   "id": "dca11e0d-e9b5-4a23-ad1b-0e34b1b6e75e",
   "metadata": {},
   "outputs": [
    {
     "data": {
      "text/plain": [
       "(10, 10, 3)"
      ]
     },
     "execution_count": 23,
     "metadata": {},
     "output_type": "execute_result"
    }
   ],
   "source": [
    "batched_pdists.shape"
   ]
  },
  {
   "cell_type": "markdown",
   "id": "239303e4-cabc-42e4-9064-b7b1ca1fd61c",
   "metadata": {},
   "source": [
    "Looking at the shape of the arrays we can clearly see that something has gone wrong. We were expecting out output array of shape 10 x 100 x 100 representing the pairwise distances between each pair of 3D points in our batch. What we got out was an array of size 10 x 10 x 3. So what went wrong? Lets step through our code step by step to find out."
   ]
  },
  {
   "cell_type": "markdown",
   "id": "edc3dcba-c8cb-40ac-84f6-ab1b57747401",
   "metadata": {},
   "source": [
    "Note: This is why developing complex numeric code in notebooks is such a good idea. Its easier to spot and debug issues like this!"
   ]
  },
  {
   "cell_type": "code",
   "execution_count": 24,
   "id": "db0783bb-c6c6-4702-be44-f552f642ea5e",
   "metadata": {},
   "outputs": [
    {
     "data": {
      "text/plain": [
       "(10, 10, 100, 3)"
      ]
     },
     "execution_count": 24,
     "metadata": {},
     "output_type": "execute_result"
    }
   ],
   "source": [
    "(batched_points1np[:,None] - batched_points2np).shape"
   ]
  },
  {
   "cell_type": "markdown",
   "id": "9d8563f8-f982-4b08-be7e-801b308f7128",
   "metadata": {},
   "source": [
    "Previosly this step resulted in an array of shape 100 x 100 x 3. Here we are getting an array of 10 x 10 x 100 x 3. Lets check the output of our reshaping operation."
   ]
  },
  {
   "cell_type": "code",
   "execution_count": 25,
   "id": "e00ed4e2-e069-4dc3-9c3f-c05d8df63dbe",
   "metadata": {},
   "outputs": [
    {
     "data": {
      "text/plain": [
       "((10, 100, 3), (10, 1, 100, 3))"
      ]
     },
     "execution_count": 25,
     "metadata": {},
     "output_type": "execute_result"
    }
   ],
   "source": [
    "batched_points1np.shape, batched_points1np[:,None].shape"
   ]
  },
  {
   "cell_type": "markdown",
   "id": "29103f77-64c8-4037-8621-b7ffe1a113d4",
   "metadata": {},
   "source": [
    "We can now see the problem, we wanted to insert a unit axis just before the final x y z axis. Instead, we inserted one just after the batch axis. This is because the `array[None]` syntax will insert axis *from the left*. So `array[None]` will insert a unit axis before all other axes, `array[:,None]` will insert an axis *after* the first axis, etc. In our code, the `array[:,None]` inserted a unit axis *after the first axis* rather then *before the final axis*, which is what we wanted. What we want to do, is insert a unit axis *before* the final axis. We can do you using the ... notation, i.e. `array[...,None]`. What this does is make numpy insert unit axes *from the right* rather than the left. So `array[...,None]` would produce an array of shape N x 1, with N being the original shape of the array, as opposed to 1 x N. We can alter it so that it inserts a unit axis just before the final axis like so."
   ]
  },
  {
   "cell_type": "code",
   "execution_count": 26,
   "id": "9f8418d5-13cf-47a3-9412-cf4af9048a3b",
   "metadata": {},
   "outputs": [
    {
     "data": {
      "text/plain": [
       "(10, 100, 1, 3)"
      ]
     },
     "execution_count": 26,
     "metadata": {},
     "output_type": "execute_result"
    }
   ],
   "source": [
    "batched_points1np[...,None,:].shape"
   ]
  },
  {
   "cell_type": "markdown",
   "id": "418613da-9e1b-49ba-ad90-7ccefe6dfeec",
   "metadata": {},
   "source": [
    "If we try our original broadcasting operation though, we will get an error from numpy telling us that the arrays cannot be broadcast together. I encourage you to try and figure out why this is before reading the explanation."
   ]
  },
  {
   "cell_type": "code",
   "execution_count": 27,
   "id": "5678d66c-6c90-4282-8224-d3d1d8d44d2b",
   "metadata": {},
   "outputs": [
    {
     "ename": "ValueError",
     "evalue": "operands could not be broadcast together with shapes (10,100,1,3) (10,100,3) ",
     "output_type": "error",
     "traceback": [
      "\u001b[31m---------------------------------------------------------------------------\u001b[39m",
      "\u001b[31mValueError\u001b[39m                                Traceback (most recent call last)",
      "\u001b[36mCell\u001b[39m\u001b[36m \u001b[39m\u001b[32mIn[27]\u001b[39m\u001b[32m, line 1\u001b[39m\n\u001b[32m----> \u001b[39m\u001b[32m1\u001b[39m \u001b[43mbatched_points1np\u001b[49m\u001b[43m[\u001b[49m\u001b[43m.\u001b[49m\u001b[43m.\u001b[49m\u001b[43m.\u001b[49m\u001b[43m,\u001b[49m\u001b[38;5;28;43;01mNone\u001b[39;49;00m\u001b[43m,\u001b[49m\u001b[43m:\u001b[49m\u001b[43m]\u001b[49m\u001b[43m \u001b[49m\u001b[43m-\u001b[49m\u001b[43m \u001b[49m\u001b[43mbatched_points2np\u001b[49m\n",
      "\u001b[31mValueError\u001b[39m: operands could not be broadcast together with shapes (10,100,1,3) (10,100,3) "
     ]
    }
   ],
   "source": [
    "batched_points1np[...,None,:] - batched_points2np"
   ]
  },
  {
   "cell_type": "code",
   "execution_count": 28,
   "id": "50df9a1d-efe6-409c-bcd9-767a1d50513e",
   "metadata": {},
   "outputs": [],
   "source": [
    "# A      (4d array):  10 x 100 x 1   x 3\n",
    "# B      (3d array):      !10 cannot be broadcast to 100\n",
    "# Result (4d array):       10  x 100 x 3"
   ]
  },
  {
   "cell_type": "markdown",
   "id": "fbe97921-eab6-44c3-bd46-8f7130b641b0",
   "metadata": {},
   "source": [
    "As it says in the docs, after the axis have been aligned on the left the arrays can be broadcast iff for each pair of axes:\n",
    "1) They are the same size\n",
    "2) One of them is of size 1\n",
    "3) One of them is of size 0"
   ]
  },
  {
   "cell_type": "markdown",
   "id": "f657c603-89ee-49bf-9b0a-f28c8edca0a9",
   "metadata": {},
   "source": [
    "In the above example the 0th axis of the batched_points2np array (size 10) is aligned with the 1st axis of the batched_points1np array (size 100). As neither of these have size 0 or 1, and they are not the same size, they cannot be broadcast. \n",
    "\n",
    "We can fix this by inserting a unit axis in-between the 0th and the 1st axis like so."
   ]
  },
  {
   "cell_type": "code",
   "execution_count": 29,
   "id": "e055039d-9392-46bf-8139-e1a42b83b93a",
   "metadata": {},
   "outputs": [
    {
     "data": {
      "text/plain": [
       "(10, 1, 100, 3)"
      ]
     },
     "execution_count": 29,
     "metadata": {},
     "output_type": "execute_result"
    }
   ],
   "source": [
    "batched_points2np[...,None,:,:].shape"
   ]
  },
  {
   "attachments": {},
   "cell_type": "markdown",
   "id": "edd810ec-0fc9-4822-bd19-42955dc3132c",
   "metadata": {},
   "source": [
    "This reads as \"consume as many axis as you can (...), insert a unit axis, then take the following two axes as is.\" This has the effect of inserted a unit axis before the 2nd axis *from the right.*\n",
    "\n",
    "Now, when we subtract `batched_points2np` from `batched_points1np`, we get an output that is of the right shape, i.e. 10 x 100 x 100 x 3"
   ]
  },
  {
   "cell_type": "code",
   "execution_count": 30,
   "id": "7f644cab-3301-48e7-ad7e-d90befba7133",
   "metadata": {},
   "outputs": [
    {
     "data": {
      "text/plain": [
       "(10, 100, 100, 3)"
      ]
     },
     "execution_count": 30,
     "metadata": {},
     "output_type": "execute_result"
    }
   ],
   "source": [
    "(batched_points1np[...,None,:] - batched_points2np[...,None,:,:]).shape"
   ]
  },
  {
   "cell_type": "markdown",
   "id": "07eed591-a5a4-4023-bd8a-bb3103e09968",
   "metadata": {},
   "source": [
    "The nice thing about writing the code this way, is that it is robust to changes in the number of dimensions in our input arrays. If we wanted to go back down to working with single instances of 3D points rather than batches, we do not need to change anything. We still end up with correctly sized output arrays, despite using the exact same indexing logic."
   ]
  },
  {
   "cell_type": "code",
   "execution_count": 31,
   "id": "7df9b922-249f-4ef8-b5c6-61020aae4e0d",
   "metadata": {},
   "outputs": [
    {
     "data": {
      "text/plain": [
       "(100, 100, 3)"
      ]
     },
     "execution_count": 31,
     "metadata": {},
     "output_type": "execute_result"
    }
   ],
   "source": [
    "(points1np[...,None,:] - points2np[...,None,:,:]).shape"
   ]
  },
  {
   "cell_type": "markdown",
   "id": "62b41e33-f386-4a00-9d99-f479e757b211",
   "metadata": {},
   "source": [
    "Lets write a new function with the updated indexing logic, and check that it returns consistent results across inputs with different sized inputs."
   ]
  },
  {
   "cell_type": "code",
   "execution_count": 32,
   "id": "7d3c5ff8-abc1-4d5f-94fc-bd1f6a912ec1",
   "metadata": {},
   "outputs": [],
   "source": [
    "def pdistnp3(points1, points2):\n",
    "    return np.sqrt(((points1[...,None,:] - points2[...,None,:,:])**2).sum(axis=2))"
   ]
  },
  {
   "cell_type": "code",
   "execution_count": 33,
   "id": "15479e48-4422-431e-b066-badb95820a97",
   "metadata": {},
   "outputs": [
    {
     "data": {
      "text/plain": [
       "(10, 100, 3)"
      ]
     },
     "execution_count": 33,
     "metadata": {},
     "output_type": "execute_result"
    }
   ],
   "source": [
    "pdistnp3(batched_points1np, batched_points2np).shape"
   ]
  },
  {
   "cell_type": "code",
   "execution_count": 34,
   "id": "ac2a3335-0f52-4a76-966d-57ad33f9e7fc",
   "metadata": {},
   "outputs": [
    {
     "data": {
      "text/plain": [
       "(100, 100)"
      ]
     },
     "execution_count": 34,
     "metadata": {},
     "output_type": "execute_result"
    }
   ],
   "source": [
    "pdistnp3(points1np, points2np).shape"
   ]
  },
  {
   "cell_type": "markdown",
   "id": "ec057bff-bdb8-4032-a294-0d5d9eedf83a",
   "metadata": {},
   "source": [
    "The shapes of the output arrays show that our solution is not correct. We should expect to see a 10 x 100 x 100 array in the batched case, and a 100 x 100 array in the single instance case. The problem lies in the `.sum(axis=2)` which is similarly not robust to changing axis. We can see what happens by again breaking down the computation into two steps an checking the intermediate shapes."
   ]
  },
  {
   "cell_type": "code",
   "execution_count": 35,
   "id": "591c8d38-74b9-4455-874d-c1b2cc599b31",
   "metadata": {},
   "outputs": [
    {
     "data": {
      "text/plain": [
       "(10, 100, 100, 3)"
      ]
     },
     "execution_count": 35,
     "metadata": {},
     "output_type": "execute_result"
    }
   ],
   "source": [
    "sqrdiffs = ((batched_points1np[...,None,:] - batched_points2np[...,None,:,:])**2);sqrdiffs.shape"
   ]
  },
  {
   "cell_type": "code",
   "execution_count": 36,
   "id": "ad8c4f6a-8ec8-4557-a829-fe3bb54bb996",
   "metadata": {},
   "outputs": [
    {
     "data": {
      "text/plain": [
       "(10, 100, 3)"
      ]
     },
     "execution_count": 36,
     "metadata": {},
     "output_type": "execute_result"
    }
   ],
   "source": [
    "sqrdiffs.sum(2).shape"
   ]
  },
  {
   "cell_type": "markdown",
   "id": "9f34d704-a788-4d6c-8a4f-c2cd47749cb9",
   "metadata": {},
   "source": [
    "The output makes it clear that we have summed along the wrong dimension. In the original case with only 3 axis, the 2nd axis was the last axis (the x y z axis), however, since we added the batch axis, the 2nd axis now represents the enumeration of points rather than the x y z axis. We can fix this by observing that the x y z axis is *always* the last axis in the array, regardless of wether we add a batch axis or not. We can explicitly encode this observation by specifying that the sum should be computed over the last axis; `.sum(axis=-1)`."
   ]
  },
  {
   "cell_type": "code",
   "execution_count": 37,
   "id": "828bb1ca-89cf-41b0-8ecc-dce426a4a360",
   "metadata": {},
   "outputs": [],
   "source": [
    "def pdistnp4(points1, points2):\n",
    "    return np.sqrt(((points1[...,None,:] - points2[...,None,:,:])**2).sum(axis=-1))"
   ]
  },
  {
   "cell_type": "code",
   "execution_count": 38,
   "id": "13d59b52-4607-4820-9135-0fb84b7cc5ab",
   "metadata": {},
   "outputs": [
    {
     "data": {
      "text/plain": [
       "(10, 100, 100)"
      ]
     },
     "execution_count": 38,
     "metadata": {},
     "output_type": "execute_result"
    }
   ],
   "source": [
    "pdistnp4(batched_points1np, batched_points2np).shape"
   ]
  },
  {
   "cell_type": "code",
   "execution_count": 39,
   "id": "cfaab39b-b871-4031-99a2-3558ae90dfdc",
   "metadata": {},
   "outputs": [
    {
     "data": {
      "text/plain": [
       "(100, 100)"
      ]
     },
     "execution_count": 39,
     "metadata": {},
     "output_type": "execute_result"
    }
   ],
   "source": [
    "pdistnp4(points1np, points2np).shape"
   ]
  },
  {
   "cell_type": "markdown",
   "id": "a5b354af-ec76-4763-94a9-beafae6e1334",
   "metadata": {},
   "source": [
    "The output is now the correct shape regardless of the number of dimensions in the input array. We can also check that they are producing the same values."
   ]
  },
  {
   "cell_type": "code",
   "execution_count": 40,
   "id": "0d4632cc-92e3-4f10-801f-fe3a797850d2",
   "metadata": {},
   "outputs": [
    {
     "data": {
      "text/plain": [
       "True"
      ]
     },
     "execution_count": 40,
     "metadata": {},
     "output_type": "execute_result"
    }
   ],
   "source": [
    "np.allclose(pdistnp4(batched_points1np, batched_points2np)[0], pdistnp4(points1np, points2np))"
   ]
  },
  {
   "cell_type": "markdown",
   "id": "96541bef-4335-489f-b6e1-7bd91d7830f5",
   "metadata": {},
   "source": [
    "With these changes we can now iterate fast developing algorithms on single instances, or scaled down versions of our data, and then effortlessly apply the same algorithms to the scaled up version. Without doing this, you can end up introducing insidious bugs that can be hard to track down, as they may silently produce incorrect results without raising explicit errors. "
   ]
  },
  {
   "cell_type": "markdown",
   "id": "1d4ab515-a6ba-4352-8194-84e14f4a8cd9",
   "metadata": {},
   "source": [
    "## Summary"
   ]
  },
  {
   "cell_type": "markdown",
   "id": "1003bf6f-256e-4176-9dc8-a50868b65a89",
   "metadata": {},
   "source": [
    "By thinking ahead of time about how the shape of your data may change, you can write code to anticipate these changes, speeding up your development cycle and avoiding nasty bugs. A key trick is to think about whether your axes indices are invariant from the right or the left. i.e if I insert a dimension I plan to introduce later, will the index of this axis change? Will it also change if I index it from the opposite end? i.e. `array[-1]` instead of `array[2]`. Broadcasting is the killer feature of NumPy, which will allow you to write faster more efficient code, but it should be treated with respect. If you find you struggle with this, don't worry; its complicated! My recommendation is, find a toy problem, fire up a jupyter notebook and mess around with some arrays.\n",
    "\n",
    "As always feel free to reach out if you like the post and want to know more. Happy NumPy'ing!"
   ]
  }
 ],
 "metadata": {
  "kernelspec": {
   "display_name": "numpy-indexing-demo",
   "language": "python",
   "name": "numpy-indexing-demo"
  },
  "language_info": {
   "codemirror_mode": {
    "name": "ipython",
    "version": 3
   },
   "file_extension": ".py",
   "mimetype": "text/x-python",
   "name": "python",
   "nbconvert_exporter": "python",
   "pygments_lexer": "ipython3",
   "version": "3.12.3"
  }
 },
 "nbformat": 4,
 "nbformat_minor": 5
}
